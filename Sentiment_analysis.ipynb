{
 "cells": [
  {
   "cell_type": "markdown",
   "metadata": {
    "id": "dBpd6SsyL6IJ"
   },
   "source": [
    "# Sentiment analysis for Netflix movie reviews"
   ]
  },
  {
   "cell_type": "markdown",
   "metadata": {},
   "source": [
    "### impoting all the neccesary libraries"
   ]
  },
  {
   "cell_type": "code",
   "execution_count": 11,
   "metadata": {
    "id": "eAtGc5ZLL6IW"
   },
   "outputs": [],
   "source": [
    "import numpy as np\n",
    "import pandas as pd\n",
    "# import tensorflow as tf\n",
    "from sklearn.feature_extraction.text import TfidfVectorizer \n",
    "from sklearn import svm\n",
    "from sklearn.metrics import classification_report\n",
    "# from keras.preprocessing.text import Tokenizer\n",
    "# from keras.preprocessing.sequence import pad_sequences\n",
    "# from keras.models import Sequential\n",
    "# from keras.layers import Dense, Embedding, LSTM, SpatialDropout1D\n",
    "from sklearn.model_selection import train_test_split\n",
    "# from keras.utils.np_utils import to_categorical\n",
    "import re\n",
    "import seaborn as sns\n",
    "import matplotlib.pyplot as plt\n",
    "import pickle\n",
    "import string\n",
    "from nltk.corpus import stopwords"
   ]
  },
  {
   "cell_type": "code",
   "execution_count": 12,
   "metadata": {
    "id": "kU1Nd7Q8L6IY"
   },
   "outputs": [],
   "source": [
    "sw = stopwords.words('english')"
   ]
  },
  {
   "cell_type": "markdown",
   "metadata": {},
   "source": [
    "### reading the data"
   ]
  },
  {
   "cell_type": "code",
   "execution_count": 13,
   "metadata": {
    "id": "Zv0vIAa0L6IZ"
   },
   "outputs": [],
   "source": [
    "pos_rev = pd.read_csv(\"pos.txt\", sep = \"\\n\", header = None, encoding = 'latin-1')\n",
    "pos_rev = pd.concat([pos_rev,pd.Series(np.ones(pos_rev.shape[0]))], ignore_index=True, axis =1)\n",
    "pos_rev.columns = ['review', 'mood']"
   ]
  },
  {
   "cell_type": "code",
   "execution_count": 14,
   "metadata": {
    "id": "YnADvij2L6Ib",
    "outputId": "0da901ae-b8d3-4ec9-adb4-ce537952d162"
   },
   "outputs": [
    {
     "data": {
      "text/html": [
       "<div>\n",
       "<style scoped>\n",
       "    .dataframe tbody tr th:only-of-type {\n",
       "        vertical-align: middle;\n",
       "    }\n",
       "\n",
       "    .dataframe tbody tr th {\n",
       "        vertical-align: top;\n",
       "    }\n",
       "\n",
       "    .dataframe thead th {\n",
       "        text-align: right;\n",
       "    }\n",
       "</style>\n",
       "<table border=\"1\" class=\"dataframe\">\n",
       "  <thead>\n",
       "    <tr style=\"text-align: right;\">\n",
       "      <th></th>\n",
       "      <th>review</th>\n",
       "      <th>mood</th>\n",
       "    </tr>\n",
       "  </thead>\n",
       "  <tbody>\n",
       "    <tr>\n",
       "      <th>0</th>\n",
       "      <td>the rock is destined to be the 21st century's ...</td>\n",
       "      <td>1.0</td>\n",
       "    </tr>\n",
       "    <tr>\n",
       "      <th>1</th>\n",
       "      <td>the gorgeously elaborate continuation of \" the...</td>\n",
       "      <td>1.0</td>\n",
       "    </tr>\n",
       "    <tr>\n",
       "      <th>2</th>\n",
       "      <td>effective but too-tepid biopic</td>\n",
       "      <td>1.0</td>\n",
       "    </tr>\n",
       "    <tr>\n",
       "      <th>3</th>\n",
       "      <td>if you sometimes like to go to the movies to h...</td>\n",
       "      <td>1.0</td>\n",
       "    </tr>\n",
       "    <tr>\n",
       "      <th>4</th>\n",
       "      <td>emerges as something rare , an issue movie tha...</td>\n",
       "      <td>1.0</td>\n",
       "    </tr>\n",
       "    <tr>\n",
       "      <th>...</th>\n",
       "      <td>...</td>\n",
       "      <td>...</td>\n",
       "    </tr>\n",
       "    <tr>\n",
       "      <th>5326</th>\n",
       "      <td>both exuberantly romantic and serenely melanch...</td>\n",
       "      <td>1.0</td>\n",
       "    </tr>\n",
       "    <tr>\n",
       "      <th>5327</th>\n",
       "      <td>mazel tov to a film about a family's joyous li...</td>\n",
       "      <td>1.0</td>\n",
       "    </tr>\n",
       "    <tr>\n",
       "      <th>5328</th>\n",
       "      <td>standing in the shadows of motown is the best ...</td>\n",
       "      <td>1.0</td>\n",
       "    </tr>\n",
       "    <tr>\n",
       "      <th>5329</th>\n",
       "      <td>it's nice to see piscopo again after all these...</td>\n",
       "      <td>1.0</td>\n",
       "    </tr>\n",
       "    <tr>\n",
       "      <th>5330</th>\n",
       "      <td>provides a porthole into that noble , tremblin...</td>\n",
       "      <td>1.0</td>\n",
       "    </tr>\n",
       "  </tbody>\n",
       "</table>\n",
       "<p>5331 rows × 2 columns</p>\n",
       "</div>"
      ],
      "text/plain": [
       "                                                 review  mood\n",
       "0     the rock is destined to be the 21st century's ...   1.0\n",
       "1     the gorgeously elaborate continuation of \" the...   1.0\n",
       "2                        effective but too-tepid biopic   1.0\n",
       "3     if you sometimes like to go to the movies to h...   1.0\n",
       "4     emerges as something rare , an issue movie tha...   1.0\n",
       "...                                                 ...   ...\n",
       "5326  both exuberantly romantic and serenely melanch...   1.0\n",
       "5327  mazel tov to a film about a family's joyous li...   1.0\n",
       "5328  standing in the shadows of motown is the best ...   1.0\n",
       "5329  it's nice to see piscopo again after all these...   1.0\n",
       "5330  provides a porthole into that noble , tremblin...   1.0\n",
       "\n",
       "[5331 rows x 2 columns]"
      ]
     },
     "execution_count": 14,
     "metadata": {},
     "output_type": "execute_result"
    }
   ],
   "source": [
    "pos_rev"
   ]
  },
  {
   "cell_type": "code",
   "execution_count": 15,
   "metadata": {
    "id": "Gfm-EFKoL6Ig",
    "outputId": "dab17cfd-89d1-42b4-a7d5-ec0596a19435"
   },
   "outputs": [
    {
     "name": "stdout",
     "output_type": "stream",
     "text": [
      "(5331, 2)\n",
      "                                              review  mood\n",
      "0  the rock is destined to be the 21st century's ...   1.0\n",
      "1  the gorgeously elaborate continuation of \" the...   1.0\n",
      "2                     effective but too-tepid biopic   1.0\n",
      "3  if you sometimes like to go to the movies to h...   1.0\n",
      "4  emerges as something rare , an issue movie tha...   1.0\n"
     ]
    }
   ],
   "source": [
    "print(pos_rev.shape)\n",
    "print(pos_rev.head())"
   ]
  },
  {
   "cell_type": "code",
   "execution_count": 16,
   "metadata": {
    "id": "bkKmLS--L6Ii",
    "outputId": "c63a0633-172a-47d1-e4d4-8b21c30f755c"
   },
   "outputs": [
    {
     "name": "stdout",
     "output_type": "stream",
     "text": [
      "                                              review  mood\n",
      "0                   simplistic , silly and tedious.    0.0\n",
      "1  it's so laddish and juvenile , only teenage bo...   0.0\n",
      "2  exploitative and largely devoid of the depth o...   0.0\n",
      "3  [garbus] discards the potential for pathologic...   0.0\n",
      "4  a visually flashy but narratively opaque and e...   0.0\n"
     ]
    }
   ],
   "source": [
    "neg_rev = pd.read_csv(\"negative.txt\", sep = \"\\n\", header = None, encoding = 'latin-1')\n",
    "neg_rev = pd.concat([neg_rev,pd.Series(np.zeros(pos_rev.shape[0]))], ignore_index=True, axis =1)\n",
    "neg_rev.columns = ['review', 'mood']\n",
    "print(neg_rev.head())\n"
   ]
  },
  {
   "cell_type": "markdown",
   "metadata": {},
   "source": [
    "### preprocessing"
   ]
  },
  {
   "cell_type": "code",
   "execution_count": 17,
   "metadata": {},
   "outputs": [],
   "source": [
    "pos_rev.loc[:, 'review'] = pos_rev.loc[:, 'review'].apply(lambda x: x.lower())\n",
    "pos_rev.loc[:, 'review'] = pos_rev.loc[:, 'review'].apply(lambda x: re.sub(r\"@\\S+\", \"\", x))\n",
    "pos_rev.loc[:, 'review'] = pos_rev.loc[:, 'review'].apply(lambda x: x.translate(str.maketrans(dict.fromkeys(string.punctuation))))\n",
    "pos_rev.loc[:, 'review'] = pos_rev.loc[:, 'review'].apply(lambda x:' '.join([word for word in x.split() if word not in (sw)]))"
   ]
  },
  {
   "cell_type": "code",
   "execution_count": 18,
   "metadata": {
    "id": "D7K-d6-NL6Ik"
   },
   "outputs": [],
   "source": [
    "neg_rev.loc[:, 'review'] = neg_rev.loc[:, 'review'].apply(lambda x: x.lower())\n",
    "neg_rev.loc[:, 'review'] = neg_rev.loc[:, 'review'].apply(lambda x: re.sub(r\"@\\S+\", \"\", x))\n",
    "neg_rev.loc[:, 'review'] = neg_rev.loc[:, 'review'].apply(lambda x: x.translate(str.maketrans(dict.fromkeys(string.punctuation))))\n",
    "neg_rev.loc[:, 'review'] = neg_rev.loc[:, 'review'].apply(lambda x:' '.join([word for word in x.split() if word not in (sw)]))"
   ]
  },
  {
   "cell_type": "markdown",
   "metadata": {},
   "source": [
    "### connecting both pos and negative review"
   ]
  },
  {
   "cell_type": "code",
   "execution_count": 19,
   "metadata": {
    "id": "dXB5MDK5L6Il"
   },
   "outputs": [],
   "source": [
    "#connecting both pos and negative review\n",
    "com_rev = pd.concat([pos_rev, neg_rev], axis =0).reset_index()"
   ]
  },
  {
   "cell_type": "markdown",
   "metadata": {},
   "source": [
    "### spliting data in training and testing"
   ]
  },
  {
   "cell_type": "code",
   "execution_count": 20,
   "metadata": {
    "id": "vXGmAJ-5L6Im"
   },
   "outputs": [],
   "source": [
    "X_train, X_test, Y_train, Y_test = train_test_split(com_rev['review'].values,com_rev['mood'].values, test_size = 0.33, random_state = 42)"
   ]
  },
  {
   "cell_type": "code",
   "execution_count": 21,
   "metadata": {
    "id": "ZN_-m2-SL6In"
   },
   "outputs": [],
   "source": [
    "# make a dataframe\n",
    "\n",
    "train_data = pd.DataFrame({'review':X_train, 'mood':Y_train})\n",
    "test_data = pd.DataFrame({'review':X_test, 'mood':Y_test})"
   ]
  },
  {
   "cell_type": "code",
   "execution_count": 22,
   "metadata": {
    "id": "F6wW_AMCL6In"
   },
   "outputs": [],
   "source": [
    "#The TfidfVectorizer will tokenize documents, learn the vocabulary and inverse document frequency weightings, \n",
    "#and allow you to encode new documents\n",
    "\n",
    "from sklearn.feature_extraction.text import TfidfVectorizer"
   ]
  },
  {
   "cell_type": "code",
   "execution_count": 23,
   "metadata": {
    "id": "ixwRzK7xL6Io"
   },
   "outputs": [],
   "source": [
    "vectorizer = TfidfVectorizer()"
   ]
  },
  {
   "cell_type": "code",
   "execution_count": 24,
   "metadata": {
    "id": "L88O8T2AL6Io"
   },
   "outputs": [],
   "source": [
    "train_vectors = vectorizer.fit_transform(train_data['review'])\n",
    "test_vectors = vectorizer.transform(test_data['review'])"
   ]
  },
  {
   "cell_type": "markdown",
   "metadata": {},
   "source": [
    "### using SVM"
   ]
  },
  {
   "cell_type": "code",
   "execution_count": 25,
   "metadata": {
    "id": "GmsNiWvUL6Ip"
   },
   "outputs": [],
   "source": [
    "classifier_linear = svm.SVC(kernel='linear')\n",
    "classifier_linear.fit(train_vectors, train_data['mood'])\n",
    "prediction_linear = classifier_linear.predict(test_vectors)"
   ]
  },
  {
   "cell_type": "code",
   "execution_count": 26,
   "metadata": {
    "id": "xSzOTEopL6Ip",
    "outputId": "5a33485d-2b9e-4d2d-ffa0-7559e14e710c"
   },
   "outputs": [
    {
     "name": "stdout",
     "output_type": "stream",
     "text": [
      "positive: 0.7429696287964005\n",
      "negative: 0.7512923607122344\n"
     ]
    }
   ],
   "source": [
    "report = classification_report(test_data['mood'], prediction_linear, output_dict=True)\n",
    "print('positive:', report['1.0']['recall'])\n",
    "print('negative:', report['0.0']['recall'])"
   ]
  },
  {
   "cell_type": "code",
   "execution_count": 27,
   "metadata": {
    "id": "1kYiSk16L6Iq"
   },
   "outputs": [],
   "source": [
    "pickle.dump(vectorizer, open('tranform.pkl', 'wb'))"
   ]
  },
  {
   "cell_type": "code",
   "execution_count": 28,
   "metadata": {
    "id": "T30RoFipL6Ir"
   },
   "outputs": [],
   "source": [
    "pickle.dump(classifier_linear, open('model.pkl', 'wb'))"
   ]
  },
  {
   "cell_type": "markdown",
   "metadata": {},
   "source": [
    "### pickling file for deployment"
   ]
  },
  {
   "cell_type": "code",
   "execution_count": 29,
   "metadata": {
    "id": "wfjA24kGL6Ir",
    "outputId": "323c17b2-2105-4785-cc9c-08db647a3a1e"
   },
   "outputs": [
    {
     "name": "stdout",
     "output_type": "stream",
     "text": [
      "[1.]\n"
     ]
    }
   ],
   "source": [
    "import pickle\n",
    "\n",
    "data = [\"best movie\"] # excellent movie # worst movie # bad movie # best movie\n",
    "#loading the transform model\n",
    "tfidf=pickle.load(open('tranform.pkl','rb'))\n",
    "\n",
    "\n",
    "# loading the model\n",
    "clf = pickle.load(open('model.pkl', 'rb'))\n",
    "\n",
    "vect = tfidf.transform(data).toarray()\n",
    "my_prediction = clf.predict(vect)\n",
    "print(my_prediction)"
   ]
  },
  {
   "cell_type": "markdown",
   "metadata": {},
   "source": [
    "### Naive bayes"
   ]
  },
  {
   "cell_type": "code",
   "execution_count": 30,
   "metadata": {
    "id": "K-oMJut1L6Is",
    "outputId": "ec0504e6-5e0e-4984-c1c5-02e923bc2729"
   },
   "outputs": [
    {
     "name": "stdout",
     "output_type": "stream",
     "text": [
      "0.7649900539926116\n",
      "positive: 0.766029246344207\n",
      "negative: 0.7639287765651924\n"
     ]
    }
   ],
   "source": [
    "from sklearn.naive_bayes import MultinomialNB\n",
    "clf = MultinomialNB()\n",
    "clf.fit(train_vectors,train_data['mood'])\n",
    "print(clf.score(test_vectors,test_data['mood']))\n",
    "\n",
    "clf_predicted = clf.predict(test_vectors)\n",
    "\n",
    "report = classification_report(test_data['mood'], clf_predicted, output_dict=True)\n",
    "print('positive:', report['1.0']['recall'])\n",
    "print('negative:', report['0.0']['recall'])"
   ]
  },
  {
   "cell_type": "code",
   "execution_count": null,
   "metadata": {
    "id": "ejD2CGUsL6It"
   },
   "outputs": [],
   "source": []
  },
  {
   "cell_type": "code",
   "execution_count": null,
   "metadata": {},
   "outputs": [],
   "source": []
  },
  {
   "cell_type": "code",
   "execution_count": null,
   "metadata": {},
   "outputs": [],
   "source": []
  },
  {
   "cell_type": "code",
   "execution_count": null,
   "metadata": {},
   "outputs": [],
   "source": []
  }
 ],
 "metadata": {
  "colab": {
   "name": "Sentiment analysis.ipynb",
   "provenance": []
  },
  "kernelspec": {
   "display_name": "Python 3",
   "language": "python",
   "name": "python3"
  },
  "language_info": {
   "codemirror_mode": {
    "name": "ipython",
    "version": 3
   },
   "file_extension": ".py",
   "mimetype": "text/x-python",
   "name": "python",
   "nbconvert_exporter": "python",
   "pygments_lexer": "ipython3",
   "version": "3.8.5"
  }
 },
 "nbformat": 4,
 "nbformat_minor": 1
}
